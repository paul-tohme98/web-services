{
 "cells": [
  {
   "cell_type": "code",
   "execution_count": 1,
   "id": "ba4acd75",
   "metadata": {},
   "outputs": [
    {
     "name": "stdout",
     "output_type": "stream",
     "text": [
      "Requirement already satisfied: spyne in c:\\users\\pault\\anaconda3\\lib\\site-packages (2.14.0)\n",
      "Requirement already satisfied: pytz in c:\\users\\pault\\anaconda3\\lib\\site-packages (from spyne) (2023.3.post1)\n",
      "Note: you may need to restart the kernel to use updated packages.\n"
     ]
    }
   ],
   "source": [
    "pip install spyne"
   ]
  },
  {
   "cell_type": "code",
   "execution_count": 1,
   "id": "ce807594-7266-4e28-b824-2ebbb5c9efea",
   "metadata": {
    "scrolled": true
   },
   "outputs": [],
   "source": [
    "from spyne import Application, rpc, ServiceBase, Integer, Unicode , Float\n",
    "from spyne import Iterable\n",
    "from spyne.protocol.soap import Soap11\n",
    "from spyne.server.wsgi import WsgiApplication\n",
    "from spyne.util.wsgi_wrapper import run_twisted\n",
    "from spyne.service import ServiceBase\n",
    "from spyne.model.primitive import String\n",
    "from spyne.model.complex import ComplexModel\n",
    "import sys\n",
    "import logging\n",
    "from spyne.util.wsgi_wrapper import WsgiMounter\n",
    "from statistics import mean\n",
    "import json\n",
    "import os"
   ]
  },
  {
   "cell_type": "code",
   "execution_count": 2,
   "id": "a63d6924-30fa-42c2-98cd-995c58169822",
   "metadata": {},
   "outputs": [],
   "source": [
    "class HelloWorldService(ServiceBase):\n",
    "    @rpc(Unicode, Integer, _returns=Iterable(Unicode))\n",
    "    def say_hello(ctx, name, times):\n",
    "        for i in range(times):\n",
    "            yield 'Hello, %s' % name"
   ]
  },
  {
   "cell_type": "code",
   "execution_count": 3,
   "id": "5ecece98-de1d-4025-90b7-0d9375e9f24f",
   "metadata": {},
   "outputs": [],
   "source": [
    "class LoanService(ServiceBase):\n",
    "    @rpc(Unicode, Unicode, _returns=Unicode)  # Accept two Unicode parameters, one for file content and one for file path\n",
    "    def process_txt_file(ctx, file_content, file_path):\n",
    "        try:\n",
    "            # Read the content of the text file\n",
    "            with open(file_path, 'r') as file:\n",
    "                file_content = file.read()\n",
    "\n",
    "            # Process the file content as before\n",
    "            lines = file_content.split('\\n')\n",
    "\n",
    "            # Initialize variables to store information\n",
    "            nom = \"\"\n",
    "            email = \"\"\n",
    "            adresse = \"\"\n",
    "            numero = \"\"\n",
    "            duree = \"\"\n",
    "            description = \"\"\n",
    "            montant = 0.00\n",
    "            adresseMaison = \"\"\n",
    "            prixMaison = 0.00\n",
    "\n",
    "            # Iterate through each line to extract information\n",
    "            for line in lines:\n",
    "                if \"Nom du client: \" in line:\n",
    "                    nom = line.split(\"Nom du client: \")[1].strip()\n",
    "                if \"Adresse: \" in line:\n",
    "                    adresse = line.split(\"Adresse: \")[1].strip()\n",
    "                if \"Email: \" in line:\n",
    "                    email = line.split(\"Email: \")[1].strip()\n",
    "                if \"Numéro de téléphone: \" in line:\n",
    "                    numero = line.split(\"Numéro de téléphone: \")[1].strip()\n",
    "                if \"Durée du prêt: \" in line:\n",
    "                    duree = line.split(\"Durée du prêt: \")[1].split(\"ans\")[0].strip()\n",
    "                if \"Description de la propriété: \" in line: \n",
    "                    description = line.split(\"Description de la propriété: \")[1].strip()\n",
    "                if \"Montant du prêt demandé:\" in line:\n",
    "                    montant_str = line.split(\"Montant du prêt demandé: \")[1].split(\"EUR\")[0].strip()\n",
    "                    montant = float(montant_str)\n",
    "                if \"Adresse maison:\" in line:\n",
    "                    adresseMaison = line.split(\"Adresse maison: \")[1].strip()\n",
    "                if \"Prix maison:\" in line:\n",
    "                    prixMaison_str = line.split(\"Prix maison: \")[1].split(\"EUR\")[0].strip()\n",
    "                    prixMaison = int(prixMaison_str)\n",
    "                    \n",
    "            \n",
    "            # Create a JSON object with the extracted information\n",
    "            data = {\n",
    "                \"nom\" : nom,\n",
    "                \"email\" : email,\n",
    "                \"adresse\" : adresse,\n",
    "                \"numero\" : numero,\n",
    "                \"duree\" : duree,\n",
    "                \"description\" : description,\n",
    "                \"montant\" : montant,\n",
    "                \"adresseMaison\" : adresseMaison,\n",
    "                \"prixMaison\" : prixMaison\n",
    "            }\n",
    "\n",
    "            # Convert the JSON object to a string\n",
    "            result = json.dumps(data)\n",
    "\n",
    "            # Determine the directory of the input file\n",
    "            #input_directory = os.path.dirname(file_path)\n",
    "\n",
    "            # Construct the output file path in the same directory\n",
    "            #output_file_path = os.path.join(input_directory, \"output.json\")\n",
    "\n",
    "            # Write the JSON result to the output file\n",
    "            #with open(output_file_path, 'w') as output_file:\n",
    "            #    output_file.write(result)            \n",
    "            \n",
    "            return result\n",
    "        except Exception as e:\n",
    "            return \"An error occurred while processing the file.\"\n"
   ]
  },
  {
   "cell_type": "code",
   "execution_count": 4,
   "id": "cc4b4979-2ea5-4674-9dd6-047b34708a5b",
   "metadata": {},
   "outputs": [],
   "source": [
    "class ScoreLoanService(ServiceBase):\n",
    "    @rpc(Integer, Integer, Integer, _returns=Integer)\n",
    "    def calculate_loan_score(ctx, dettes_en_cours, paiement_en_retard, antecedent_faillite):\n",
    "        # Logique pour calculer le score en fonction de l'historique financier\n",
    "        # Ceci est une logique de démonstration, veuillez ajuster selon vos besoins\n",
    "        score = 100  # Score initial\n",
    "\n",
    "        if dettes_en_cours > 5000:\n",
    "            score -= 10\n",
    "\n",
    "        if paiement_en_retard > 0:\n",
    "            score -= 20\n",
    "\n",
    "        if antecedent_faillite:\n",
    "            score -= 50\n",
    "\n",
    "        return score"
   ]
  },
  {
   "cell_type": "code",
   "execution_count": 5,
   "id": "b71fae87-20fb-4235-a29d-b1e15440ae20",
   "metadata": {},
   "outputs": [],
   "source": [
    "class AnalyseLoanService(ServiceBase):\n",
    "    @rpc(Float, Float, _returns=Unicode)\n",
    "    def evaluer_capacite_remboursement(ctx,revenus, depenses):\n",
    "        # Calculer le solde mensuel (revenus - dépenses)\n",
    "        solde_mensuel = revenus - depenses\n",
    "    \n",
    "        # Vérifier la capacité de remboursement en fonction du solde\n",
    "        if solde_mensuel > 0:\n",
    "            capacite_remboursement = \"Le client a une capacité de remboursement positive.\"\n",
    "        elif solde_mensuel == 0:\n",
    "            capacite_remboursement = \"Le client a juste assez de revenus pour couvrir ses dépenses.\"\n",
    "        else:\n",
    "            capacite_remboursement = \"Le client a un solde négatif. Il peut avoir des difficultés à rembourser ses dettes.\"\n",
    "    \n",
    "        return capacite_remboursement"
   ]
  },
  {
   "cell_type": "code",
   "execution_count": 6,
   "id": "0a19d818-ff48-4236-a1cc-f242636d9214",
   "metadata": {},
   "outputs": [],
   "source": [
    "class PropConformService(ServiceBase):\n",
    "    @rpc(bool, bool, bool, _returns=bool)\n",
    "    def verifConformHouse(ctx, land_dispute, complies_with_regulations, eligible_for_loan):\n",
    "        conform = False \n",
    "        try:\n",
    "            if (land_dispute == False) and (complies_with_regulations == True) and (eligible_for_loan == True):\n",
    "                conform = True\n",
    "            else :\n",
    "                conform = False\n",
    "            return conform\n",
    "        except Exception as e:\n",
    "            return conform"
   ]
  },
  {
   "cell_type": "code",
   "execution_count": 7,
   "id": "3f990458-c22c-43c4-b29e-6c7016e375b7",
   "metadata": {},
   "outputs": [],
   "source": [
    "class HouseValEstimService(ServiceBase):\n",
    "    @rpc(Iterable(Float), _returns=Float)\n",
    "    def valHouseEstim(ctx, input_list):\n",
    "        # Vérifier que la liste n'est pas vide\n",
    "        if not input_list:\n",
    "            raise ValueError(\"Pas de biens similaires trouvés.\")\n",
    "\n",
    "        # Exemple simple : Somme des valeurs de la liste\n",
    "        valEstimee = mean(input_list)\n",
    "\n",
    "        # Vous pouvez ajouter une logique plus complexe ici en fonction de vos besoins\n",
    "\n",
    "        return valEstimee"
   ]
  },
  {
   "cell_type": "code",
   "execution_count": 8,
   "id": "1dca2941-6715-4239-9957-8085f1ea7386",
   "metadata": {},
   "outputs": [
    {
     "ename": "SystemExit",
     "evalue": "",
     "output_type": "error",
     "traceback": [
      "An exception has occurred, use %tb to see the full traceback.\n",
      "\u001b[1;31mSystemExit\u001b[0m\n"
     ]
    },
    {
     "name": "stderr",
     "output_type": "stream",
     "text": [
      "C:\\Users\\pault\\anaconda3\\Lib\\site-packages\\IPython\\core\\interactiveshell.py:3534: UserWarning: To exit: use 'exit', 'quit', or Ctrl-D.\n",
      "  warn(\"To exit: use 'exit', 'quit', or Ctrl-D.\", stacklevel=1)\n"
     ]
    }
   ],
   "source": [
    "# Ca marche ici!\n",
    "\n",
    "app_houseValEstim = Application([HouseValEstimService], 'valHouseEstim',\n",
    "                          in_protocol=Soap11(validator='lxml'),\n",
    "                          out_protocol=Soap11())\n",
    "\n",
    "app_propConform = Application([PropConformService], 'verifConformHouse',\n",
    "                          in_protocol=Soap11(validator='lxml'),\n",
    "                          out_protocol=Soap11())\n",
    "\n",
    "app_analyse = Application([AnalyseLoanService], 'analyse_service',\n",
    "                          in_protocol=Soap11(validator='lxml'),\n",
    "                          out_protocol=Soap11())\n",
    "\n",
    "app_score = Application([ScoreLoanService], 'score_service',\n",
    "                          in_protocol=Soap11(validator='lxml'),\n",
    "                          out_protocol=Soap11())\n",
    "\n",
    "app_loan = Application([LoanService], 'loan_service',\n",
    "                          in_protocol=Soap11(validator='lxml'),\n",
    "                          out_protocol=Soap11())\n",
    "\n",
    "app_hello = Application([HelloWorldService], 'hello_service',\n",
    "                          in_protocol=Soap11(validator='lxml'),\n",
    "                          out_protocol=Soap11())\n",
    "\n",
    "wsgi_app_houseValEstim = WsgiApplication(app_houseValEstim)\n",
    "wsgi_app_propConform = WsgiApplication(app_propConform)\n",
    "wsgi_app_analyse = WsgiApplication(app_analyse)\n",
    "wsgi_app_score = WsgiApplication(app_score)\n",
    "wsgi_app_loan = WsgiApplication(app_loan)\n",
    "wsgi_app_hello = WsgiApplication(app_hello)\n",
    "\n",
    "twisted_apps = [\n",
    "    (wsgi_app_houseValEstim, b'valHouseEstim'),\n",
    "    (wsgi_app_propConform, b'verifConformHouse'),\n",
    "    (wsgi_app_analyse, b'analyseDemandeService'),\n",
    "    (wsgi_app_score, b'calculScoreService'),\n",
    "    (wsgi_app_loan, b'fetchDemandService'),\n",
    "    (wsgi_app_hello, b'helloWorldService')\n",
    "]\n",
    "sys.exit(run_twisted(twisted_apps, 8000))\n"
   ]
  },
  {
   "cell_type": "code",
   "execution_count": null,
   "id": "0d767e9c-b3bc-421d-953d-b0af61a61b30",
   "metadata": {},
   "outputs": [],
   "source": []
  },
  {
   "cell_type": "code",
   "execution_count": null,
   "id": "44bb7305-83c3-4973-973f-efac82881c59",
   "metadata": {},
   "outputs": [],
   "source": []
  }
 ],
 "metadata": {
  "kernelspec": {
   "display_name": "Python 3 (ipykernel)",
   "language": "python",
   "name": "python3"
  },
  "language_info": {
   "codemirror_mode": {
    "name": "ipython",
    "version": 3
   },
   "file_extension": ".py",
   "mimetype": "text/x-python",
   "name": "python",
   "nbconvert_exporter": "python",
   "pygments_lexer": "ipython3",
   "version": "3.11.5"
  }
 },
 "nbformat": 4,
 "nbformat_minor": 5
}
